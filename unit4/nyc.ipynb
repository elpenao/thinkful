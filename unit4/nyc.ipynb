{
 "metadata": {
  "name": "",
  "signature": "sha256:e58a7e6ddfe41f26d434bf0151587c89477dd6d3f2bc535328770b430223bc69"
 },
 "nbformat": 3,
 "nbformat_minor": 0,
 "worksheets": [
  {
   "cells": [
    {
     "cell_type": "code",
     "collapsed": false,
     "input": [
      "import numpy as np\n",
      "import pandas as pd\n",
      "from sklearn.cross_validation import train_test_split\n",
      "import matplotlib.pyplot as plt\n",
      "%matplotlib inline\n",
      "df = pd.read_csv('rollingsales_manhattan.csv')"
     ],
     "language": "python",
     "metadata": {},
     "outputs": [],
     "prompt_number": 61
    },
    {
     "cell_type": "code",
     "collapsed": false,
     "input": [
      "df['TEST'] = df['TEST'].astype(int)"
     ],
     "language": "python",
     "metadata": {},
     "outputs": [],
     "prompt_number": 62
    },
    {
     "cell_type": "code",
     "collapsed": false,
     "input": [
      "import statsmodels.api as sm\n",
      "\n",
      "X = df['YEAR BUILT']\n",
      "y = df['TEST']\n",
      "\n",
      "## fit a OLS model with intercept on TV and Radio\n",
      "X = sm.add_constant(X)\n",
      "est = sm.OLS(y, X).fit()\n",
      "\n",
      "est.summary()"
     ],
     "language": "python",
     "metadata": {},
     "outputs": [
      {
       "html": [
        "<table class=\"simpletable\">\n",
        "<caption>OLS Regression Results</caption>\n",
        "<tr>\n",
        "  <th>Dep. Variable:</th>          <td>TEST</td>       <th>  R-squared:         </th>  <td>   0.005</td>  \n",
        "</tr>\n",
        "<tr>\n",
        "  <th>Model:</th>                   <td>OLS</td>       <th>  Adj. R-squared:    </th>  <td>   0.004</td>  \n",
        "</tr>\n",
        "<tr>\n",
        "  <th>Method:</th>             <td>Least Squares</td>  <th>  F-statistic:       </th>  <td>   50.38</td>  \n",
        "</tr>\n",
        "<tr>\n",
        "  <th>Date:</th>             <td>Sun, 31 May 2015</td> <th>  Prob (F-statistic):</th>  <td>1.34e-12</td>  \n",
        "</tr>\n",
        "<tr>\n",
        "  <th>Time:</th>                 <td>10:07:21</td>     <th>  Log-Likelihood:    </th> <td>-1.8197e+05</td>\n",
        "</tr>\n",
        "<tr>\n",
        "  <th>No. Observations:</th>      <td> 10951</td>      <th>  AIC:               </th>  <td>3.639e+05</td> \n",
        "</tr>\n",
        "<tr>\n",
        "  <th>Df Residuals:</th>          <td> 10949</td>      <th>  BIC:               </th>  <td>3.640e+05</td> \n",
        "</tr>\n",
        "<tr>\n",
        "  <th>Df Model:</th>              <td>     1</td>      <th>                     </th>      <td> </td>     \n",
        "</tr>\n",
        "</table>\n",
        "<table class=\"simpletable\">\n",
        "<tr>\n",
        "       <td></td>         <th>coef</th>     <th>std err</th>      <th>t</th>      <th>P>|t|</th> <th>[95.0% Conf. Int.]</th> \n",
        "</tr>\n",
        "<tr>\n",
        "  <th>const</th>      <td>-1.381e+07</td> <td> 2.19e+06</td> <td>   -6.308</td> <td> 0.000</td> <td>-1.81e+07 -9.52e+06</td>\n",
        "</tr>\n",
        "<tr>\n",
        "  <th>YEAR BUILT</th> <td> 7960.3161</td> <td> 1121.499</td> <td>    7.098</td> <td> 0.000</td> <td> 5761.976  1.02e+04</td>\n",
        "</tr>\n",
        "</table>\n",
        "<table class=\"simpletable\">\n",
        "<tr>\n",
        "  <th>Omnibus:</th>       <td>23460.779</td> <th>  Durbin-Watson:     </th>   <td>   0.028</td>   \n",
        "</tr>\n",
        "<tr>\n",
        "  <th>Prob(Omnibus):</th>  <td> 0.000</td>   <th>  Jarque-Bera (JB):  </th> <td>156790907.430</td>\n",
        "</tr>\n",
        "<tr>\n",
        "  <th>Skew:</th>           <td>18.824</td>   <th>  Prob(JB):          </th>   <td>    0.00</td>   \n",
        "</tr>\n",
        "<tr>\n",
        "  <th>Kurtosis:</th>       <td>587.981</td>  <th>  Cond. No.          </th>   <td>1.12e+05</td>   \n",
        "</tr>\n",
        "</table>"
       ],
       "metadata": {},
       "output_type": "pyout",
       "prompt_number": 63,
       "text": [
        "<class 'statsmodels.iolib.summary.Summary'>\n",
        "\"\"\"\n",
        "                            OLS Regression Results                            \n",
        "==============================================================================\n",
        "Dep. Variable:                   TEST   R-squared:                       0.005\n",
        "Model:                            OLS   Adj. R-squared:                  0.004\n",
        "Method:                 Least Squares   F-statistic:                     50.38\n",
        "Date:                Sun, 31 May 2015   Prob (F-statistic):           1.34e-12\n",
        "Time:                        10:07:21   Log-Likelihood:            -1.8197e+05\n",
        "No. Observations:               10951   AIC:                         3.639e+05\n",
        "Df Residuals:                   10949   BIC:                         3.640e+05\n",
        "Df Model:                           1                                         \n",
        "==============================================================================\n",
        "                 coef    std err          t      P>|t|      [95.0% Conf. Int.]\n",
        "------------------------------------------------------------------------------\n",
        "const      -1.381e+07   2.19e+06     -6.308      0.000     -1.81e+07 -9.52e+06\n",
        "YEAR BUILT  7960.3161   1121.499      7.098      0.000      5761.976  1.02e+04\n",
        "==============================================================================\n",
        "Omnibus:                    23460.779   Durbin-Watson:                   0.028\n",
        "Prob(Omnibus):                  0.000   Jarque-Bera (JB):        156790907.430\n",
        "Skew:                          18.824   Prob(JB):                         0.00\n",
        "Kurtosis:                     587.981   Cond. No.                     1.12e+05\n",
        "==============================================================================\n",
        "\n",
        "Warnings:\n",
        "[1] The condition number is large, 1.12e+05. This might indicate that there are\n",
        "strong multicollinearity or other numerical problems.\n",
        "\"\"\""
       ]
      }
     ],
     "prompt_number": 63
    },
    {
     "cell_type": "code",
     "collapsed": false,
     "input": [
      "df.head()"
     ],
     "language": "python",
     "metadata": {},
     "outputs": [
      {
       "html": [
        "<div style=\"max-height:1000px;max-width:1500px;overflow:auto;\">\n",
        "<table border=\"1\" class=\"dataframe\">\n",
        "  <thead>\n",
        "    <tr style=\"text-align: right;\">\n",
        "      <th></th>\n",
        "      <th>YEAR BUILT</th>\n",
        "      <th>TEST</th>\n",
        "      <th>NEIGHBORHOOD</th>\n",
        "    </tr>\n",
        "  </thead>\n",
        "  <tbody>\n",
        "    <tr>\n",
        "      <th>0</th>\n",
        "      <td> 1975</td>\n",
        "      <td> 173298644</td>\n",
        "      <td> UPPER EAST SIDE (59-79)  </td>\n",
        "    </tr>\n",
        "    <tr>\n",
        "      <th>1</th>\n",
        "      <td> 1989</td>\n",
        "      <td> 147000000</td>\n",
        "      <td> KIPS BAY                 </td>\n",
        "    </tr>\n",
        "    <tr>\n",
        "      <th>2</th>\n",
        "      <td> 2009</td>\n",
        "      <td> 100471452</td>\n",
        "      <td> MIDTOWN WEST             </td>\n",
        "    </tr>\n",
        "    <tr>\n",
        "      <th>3</th>\n",
        "      <td> 2009</td>\n",
        "      <td>  91541053</td>\n",
        "      <td> MIDTOWN WEST             </td>\n",
        "    </tr>\n",
        "    <tr>\n",
        "      <th>4</th>\n",
        "      <td> 1931</td>\n",
        "      <td>  77500000</td>\n",
        "      <td> UPPER EAST SIDE (59-79)  </td>\n",
        "    </tr>\n",
        "  </tbody>\n",
        "</table>\n",
        "</div>"
       ],
       "metadata": {},
       "output_type": "pyout",
       "prompt_number": 64,
       "text": [
        "   YEAR BUILT       TEST               NEIGHBORHOOD\n",
        "0        1975  173298644  UPPER EAST SIDE (59-79)  \n",
        "1        1989  147000000  KIPS BAY                 \n",
        "2        2009  100471452  MIDTOWN WEST             \n",
        "3        2009   91541053  MIDTOWN WEST             \n",
        "4        1931   77500000  UPPER EAST SIDE (59-79)  "
       ]
      }
     ],
     "prompt_number": 64
    },
    {
     "cell_type": "code",
     "collapsed": false,
     "input": [
      "dfTrain, dfTest = train_test_split(df, test_size=0.2)\n",
      "\n",
      "# this is the subset of labels for the training set\n",
      "cl = dfTrain[:,2]\n",
      "# subset of labels for the test set, we're withholding these\n",
      "true_labels = dfTest[:,2]"
     ],
     "language": "python",
     "metadata": {},
     "outputs": [],
     "prompt_number": 65
    },
    {
     "cell_type": "code",
     "collapsed": false,
     "input": [
      "from sklearn.neighbors import KNeighborsClassifier\n",
      "\n",
      "model = KNeighborsClassifier(n_neighbors=3)\n",
      "model.fit(dfTrain[:,:2], dfTrain[:,2])"
     ],
     "language": "python",
     "metadata": {},
     "outputs": [
      {
       "metadata": {},
       "output_type": "pyout",
       "prompt_number": 66,
       "text": [
        "KNeighborsClassifier(algorithm='auto', leaf_size=30, metric='minkowski',\n",
        "           metric_params=None, n_neighbors=3, p=2, weights='uniform')"
       ]
      }
     ],
     "prompt_number": 66
    },
    {
     "cell_type": "code",
     "collapsed": false,
     "input": [
      "for k in range(1,5):\n",
      "    model = KNeighborsClassifier(n_neighbors=k)\n",
      "    model.fit(dfTrain[:,:2], dfTrain[:,2])\n",
      "    # make predictions\n",
      "    expected = dfTest[:,2]\n",
      "    predicted = model.predict(dfTest[:,:2])\n",
      "    # misclassification rate\n",
      "    error_rate = (predicted != expected).mean()\n",
      "    print('%d:, %.2f' % (k, error_rate))"
     ],
     "language": "python",
     "metadata": {},
     "outputs": [
      {
       "output_type": "stream",
       "stream": "stdout",
       "text": [
        "1:, 0.86\n",
        "2:, 0.89\n",
        "3:, 0.91\n",
        "4:, 0.90"
       ]
      },
      {
       "output_type": "stream",
       "stream": "stdout",
       "text": [
        "\n"
       ]
      }
     ],
     "prompt_number": 67
    },
    {
     "cell_type": "code",
     "collapsed": false,
     "input": [
      "model = KNeighborsClassifier(n_neighbors=2)\n",
      "model.fit(dfTrain[:,:2], dfTrain[:,2])\n",
      "predicted = model.predict([1939,8700000])\n",
      "print predicted"
     ],
     "language": "python",
     "metadata": {},
     "outputs": [
      {
       "output_type": "stream",
       "stream": "stdout",
       "text": [
        "['UPPER EAST SIDE (59-79)  ']\n"
       ]
      }
     ],
     "prompt_number": 68
    },
    {
     "cell_type": "code",
     "collapsed": false,
     "input": [
      "# Example of kNN implemented from Scratch in Python\n",
      "\n",
      "import csv\n",
      "import random\n",
      "import math\n",
      "import operator\n",
      "\n",
      "def loadDataset(filename, split, trainingSet=[] , testSet=[]):\n",
      "\twith open(filename, 'rb') as csvfile:\n",
      "\t    lines = csv.reader(csvfile)\n",
      "\t    dataset = list(lines)\n",
      "\t    for x in range(len(dataset)-1):\n",
      "\t        for y in range(2):\n",
      "\t            dataset[x][y] = float(dataset[x][y])\n",
      "\t        if random.random() < split:\n",
      "\t            trainingSet.append(dataset[x])\n",
      "\t        else:\n",
      "\t            testSet.append(dataset[x])\n",
      "\n",
      "\n",
      "def euclideanDistance(instance1, instance2, length):\n",
      "\tdistance = 0\n",
      "\tfor x in range(length):\n",
      "\t\tdistance += pow((instance1[x] - instance2[x]), 2)\n",
      "\treturn math.sqrt(distance)\n",
      "\n",
      "def getNeighbors(trainingSet, testInstance, k):\n",
      "\tdistances = []\n",
      "\tlength = len(testInstance)-1\n",
      "\tfor x in range(len(trainingSet)):\n",
      "\t\tdist = euclideanDistance(testInstance, trainingSet[x], length)\n",
      "\t\tdistances.append((trainingSet[x], dist))\n",
      "\tdistances.sort(key=operator.itemgetter(1))\n",
      "\tneighbors = []\n",
      "\tfor x in range(k):\n",
      "\t\tneighbors.append(distances[x][0])\n",
      "\treturn neighbors\n",
      "\n",
      "def getResponse(neighbors):\n",
      "\tclassVotes = {}\n",
      "\tfor x in range(len(neighbors)):\n",
      "\t\tresponse = neighbors[x][-1]\n",
      "\t\tif response in classVotes:\n",
      "\t\t\tclassVotes[response] += 1\n",
      "\t\telse:\n",
      "\t\t\tclassVotes[response] = 1\n",
      "\tsortedVotes = sorted(classVotes.iteritems(), key=operator.itemgetter(1), reverse=True)\n",
      "\treturn sortedVotes[0][0]\n",
      "\n",
      "def getAccuracy(testSet, predictions):\n",
      "\tcorrect = 0\n",
      "\tfor x in range(len(testSet)):\n",
      "\t\tif testSet[x][-1] == predictions[x]:\n",
      "\t\t\tcorrect += 1\n",
      "\treturn (correct/float(len(testSet))) * 100.0\n",
      "\t\n",
      "def main():\n",
      "\t# prepare data\n",
      "\ttrainingSet=[]\n",
      "\ttestSet=[]\n",
      "\tsplit = 0.67\n",
      "\tloadDataset('rollingsales_manhattan.csv', split, trainingSet, testSet)\n",
      "\tprint 'Train set: ' + repr(len(trainingSet))\n",
      "\tprint 'Test set: ' + repr(len(testSet))\n",
      "\t# generate predictions\n",
      "\tpredictions=[]\n",
      "\tk = 3\n",
      "\tfor x in range(len(testSet)):\n",
      "\t\tneighbors = getNeighbors(trainingSet, testSet[x], k)\n",
      "\t\tresult = getResponse(neighbors)\n",
      "\t\tpredictions.append(result)\n",
      "\t\tprint('> predicted=' + repr(result) + ', actual=' + repr(testSet[x][-1]))\n",
      "\taccuracy = getAccuracy(testSet, predictions)\n",
      "\tprint('Accuracy: ' + repr(accuracy) + '%')\n",
      "\t\n",
      "main()"
     ],
     "language": "python",
     "metadata": {},
     "outputs": [
      {
       "ename": "Error",
       "evalue": "new-line character seen in unquoted field - do you need to open the file in universal-newline mode?",
       "output_type": "pyerr",
       "traceback": [
        "\u001b[0;31m---------------------------------------------------------------------------\u001b[0m\n\u001b[0;31mError\u001b[0m                                     Traceback (most recent call last)",
        "\u001b[0;32m<ipython-input-69-542e7fe82e86>\u001b[0m in \u001b[0;36m<module>\u001b[0;34m()\u001b[0m\n\u001b[1;32m     74\u001b[0m         \u001b[0;32mprint\u001b[0m\u001b[0;34m(\u001b[0m\u001b[0;34m'Accuracy: '\u001b[0m \u001b[0;34m+\u001b[0m \u001b[0mrepr\u001b[0m\u001b[0;34m(\u001b[0m\u001b[0maccuracy\u001b[0m\u001b[0;34m)\u001b[0m \u001b[0;34m+\u001b[0m \u001b[0;34m'%'\u001b[0m\u001b[0;34m)\u001b[0m\u001b[0;34m\u001b[0m\u001b[0m\n\u001b[1;32m     75\u001b[0m \u001b[0;34m\u001b[0m\u001b[0m\n\u001b[0;32m---> 76\u001b[0;31m \u001b[0mmain\u001b[0m\u001b[0;34m(\u001b[0m\u001b[0;34m)\u001b[0m\u001b[0;34m\u001b[0m\u001b[0m\n\u001b[0m",
        "\u001b[0;32m<ipython-input-69-542e7fe82e86>\u001b[0m in \u001b[0;36mmain\u001b[0;34m()\u001b[0m\n\u001b[1;32m     60\u001b[0m         \u001b[0mtestSet\u001b[0m\u001b[0;34m=\u001b[0m\u001b[0;34m[\u001b[0m\u001b[0;34m]\u001b[0m\u001b[0;34m\u001b[0m\u001b[0m\n\u001b[1;32m     61\u001b[0m         \u001b[0msplit\u001b[0m \u001b[0;34m=\u001b[0m \u001b[0;36m0.67\u001b[0m\u001b[0;34m\u001b[0m\u001b[0m\n\u001b[0;32m---> 62\u001b[0;31m         \u001b[0mloadDataset\u001b[0m\u001b[0;34m(\u001b[0m\u001b[0;34m'rollingsales_manhattan.csv'\u001b[0m\u001b[0;34m,\u001b[0m \u001b[0msplit\u001b[0m\u001b[0;34m,\u001b[0m \u001b[0mtrainingSet\u001b[0m\u001b[0;34m,\u001b[0m \u001b[0mtestSet\u001b[0m\u001b[0;34m)\u001b[0m\u001b[0;34m\u001b[0m\u001b[0m\n\u001b[0m\u001b[1;32m     63\u001b[0m         \u001b[0;32mprint\u001b[0m \u001b[0;34m'Train set: '\u001b[0m \u001b[0;34m+\u001b[0m \u001b[0mrepr\u001b[0m\u001b[0;34m(\u001b[0m\u001b[0mlen\u001b[0m\u001b[0;34m(\u001b[0m\u001b[0mtrainingSet\u001b[0m\u001b[0;34m)\u001b[0m\u001b[0;34m)\u001b[0m\u001b[0;34m\u001b[0m\u001b[0m\n\u001b[1;32m     64\u001b[0m         \u001b[0;32mprint\u001b[0m \u001b[0;34m'Test set: '\u001b[0m \u001b[0;34m+\u001b[0m \u001b[0mrepr\u001b[0m\u001b[0;34m(\u001b[0m\u001b[0mlen\u001b[0m\u001b[0;34m(\u001b[0m\u001b[0mtestSet\u001b[0m\u001b[0;34m)\u001b[0m\u001b[0;34m)\u001b[0m\u001b[0;34m\u001b[0m\u001b[0m\n",
        "\u001b[0;32m<ipython-input-69-542e7fe82e86>\u001b[0m in \u001b[0;36mloadDataset\u001b[0;34m(filename, split, trainingSet, testSet)\u001b[0m\n\u001b[1;32m      9\u001b[0m         \u001b[0;32mwith\u001b[0m \u001b[0mopen\u001b[0m\u001b[0;34m(\u001b[0m\u001b[0mfilename\u001b[0m\u001b[0;34m,\u001b[0m \u001b[0;34m'rb'\u001b[0m\u001b[0;34m)\u001b[0m \u001b[0;32mas\u001b[0m \u001b[0mcsvfile\u001b[0m\u001b[0;34m:\u001b[0m\u001b[0;34m\u001b[0m\u001b[0m\n\u001b[1;32m     10\u001b[0m             \u001b[0mlines\u001b[0m \u001b[0;34m=\u001b[0m \u001b[0mcsv\u001b[0m\u001b[0;34m.\u001b[0m\u001b[0mreader\u001b[0m\u001b[0;34m(\u001b[0m\u001b[0mcsvfile\u001b[0m\u001b[0;34m)\u001b[0m\u001b[0;34m\u001b[0m\u001b[0m\n\u001b[0;32m---> 11\u001b[0;31m             \u001b[0mdataset\u001b[0m \u001b[0;34m=\u001b[0m \u001b[0mlist\u001b[0m\u001b[0;34m(\u001b[0m\u001b[0mlines\u001b[0m\u001b[0;34m)\u001b[0m\u001b[0;34m\u001b[0m\u001b[0m\n\u001b[0m\u001b[1;32m     12\u001b[0m             \u001b[0;32mfor\u001b[0m \u001b[0mx\u001b[0m \u001b[0;32min\u001b[0m \u001b[0mrange\u001b[0m\u001b[0;34m(\u001b[0m\u001b[0mlen\u001b[0m\u001b[0;34m(\u001b[0m\u001b[0mdataset\u001b[0m\u001b[0;34m)\u001b[0m\u001b[0;34m-\u001b[0m\u001b[0;36m1\u001b[0m\u001b[0;34m)\u001b[0m\u001b[0;34m:\u001b[0m\u001b[0;34m\u001b[0m\u001b[0m\n\u001b[1;32m     13\u001b[0m                 \u001b[0;32mfor\u001b[0m \u001b[0my\u001b[0m \u001b[0;32min\u001b[0m \u001b[0mrange\u001b[0m\u001b[0;34m(\u001b[0m\u001b[0;36m2\u001b[0m\u001b[0;34m)\u001b[0m\u001b[0;34m:\u001b[0m\u001b[0;34m\u001b[0m\u001b[0m\n",
        "\u001b[0;31mError\u001b[0m: new-line character seen in unquoted field - do you need to open the file in universal-newline mode?"
       ]
      }
     ],
     "prompt_number": 69
    },
    {
     "cell_type": "code",
     "collapsed": false,
     "input": [],
     "language": "python",
     "metadata": {},
     "outputs": [],
     "prompt_number": 58
    },
    {
     "cell_type": "code",
     "collapsed": false,
     "input": [],
     "language": "python",
     "metadata": {},
     "outputs": []
    }
   ],
   "metadata": {}
  }
 ]
}