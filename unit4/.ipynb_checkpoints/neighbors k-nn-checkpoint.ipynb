{
 "metadata": {
  "name": "",
  "signature": "sha256:3b6b736146f0d6ff85e9b77af0eac830fab570e9f683f0930aeb0e8abda4db11"
 },
 "nbformat": 3,
 "nbformat_minor": 0,
 "worksheets": []
}