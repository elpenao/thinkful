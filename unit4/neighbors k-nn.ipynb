{
 "metadata": {
  "name": "",
  "signature": "sha256:af97029fe775b2ea2474590156fa3eb403a19afa8990148f7cc62807179ed278"
 },
 "nbformat": 3,
 "nbformat_minor": 0,
 "worksheets": [
  {
   "cells": [
    {
     "cell_type": "code",
     "collapsed": false,
     "input": [
      "import numpy as np\n",
      "import pandas as pd\n",
      "from sklearn.cross_validation import train_test_split\n",
      "df = pd.read_csv('credit.csv')\n",
      "\n",
      "dfTrain, dfTest = train_test_split(df, test_size=0.2)\n",
      "\n",
      "# this is the subset of labels for the training set\n",
      "cl = dfTrain[:,2]\n",
      "# subset of labels for the test set, we're withholding these\n",
      "true_labels = dfTest[:,2]"
     ],
     "language": "python",
     "metadata": {},
     "outputs": [],
     "prompt_number": 8
    },
    {
     "cell_type": "code",
     "collapsed": false,
     "input": [
      "dfTest"
     ],
     "language": "python",
     "metadata": {},
     "outputs": [
      {
       "metadata": {},
       "output_type": "pyout",
       "prompt_number": 9,
       "text": [
        "array([[49, 34.0, 'high'],\n",
        "       [58, 83.0, 'high'],\n",
        "       [49, 82.0, 'low'],\n",
        "       [37, 40.0, 'low'],\n",
        "       [34, 100.0, 'high']], dtype=object)"
       ]
      }
     ],
     "prompt_number": 9
    },
    {
     "cell_type": "code",
     "collapsed": false,
     "input": [
      "dfTrain"
     ],
     "language": "python",
     "metadata": {},
     "outputs": [
      {
       "metadata": {},
       "output_type": "pyout",
       "prompt_number": 10,
       "text": [
        "array([[48, 89.0, 'low'],\n",
        "       [66, 57.0, 'low'],\n",
        "       [48, 90.5, 'high'],\n",
        "       [58, 82.0, 'low'],\n",
        "       [34, 32.0, 'low'],\n",
        "       [44, 90.5, 'low'],\n",
        "       [49, 72.0, 'high'],\n",
        "       [44, 40.0, 'low'],\n",
        "       [69, 5.0, 'low'],\n",
        "       [49, 89.0, 'low'],\n",
        "       [57, 83.0, 'high'],\n",
        "       [49, 34.0, 'high'],\n",
        "       [37, 89.0, 'low'],\n",
        "       [49, 72.0, 'high'],\n",
        "       [29, 32.0, 'low'],\n",
        "       [29, 57.0, 'low']], dtype=object)"
       ]
      }
     ],
     "prompt_number": 10
    },
    {
     "cell_type": "code",
     "collapsed": false,
     "input": [
      "from sklearn.neighbors import KNeighborsClassifier\n",
      "\n",
      "model = KNeighborsClassifier(n_neighbors=3)\n",
      "model.fit(dfTrain[:,:2], dfTrain[:,2])"
     ],
     "language": "python",
     "metadata": {},
     "outputs": [
      {
       "metadata": {},
       "output_type": "pyout",
       "prompt_number": 11,
       "text": [
        "KNeighborsClassifier(algorithm='auto', leaf_size=30, metric='minkowski',\n",
        "           metric_params=None, n_neighbors=3, p=2, weights='uniform')"
       ]
      }
     ],
     "prompt_number": 11
    },
    {
     "cell_type": "code",
     "collapsed": false,
     "input": [
      "for k in range(1,5):\n",
      "    model = KNeighborsClassifier(n_neighbors=k)\n",
      "    model.fit(dfTrain[:,:2], dfTrain[:,2])\n",
      "    # make predictions\n",
      "    expected = dfTest[:,2]\n",
      "    predicted = model.predict(dfTest[:,:2])\n",
      "    # misclassification rate\n",
      "    error_rate = (predicted != expected).mean()\n",
      "    print('%d:, %.2f' % (k, error_rate))"
     ],
     "language": "python",
     "metadata": {},
     "outputs": [
      {
       "output_type": "stream",
       "stream": "stdout",
       "text": [
        "1:, 0.40\n",
        "2:, 0.20\n",
        "3:, 0.60\n",
        "4:, 0.80\n"
       ]
      }
     ],
     "prompt_number": 12
    },
    {
     "cell_type": "code",
     "collapsed": false,
     "input": [
      "model = KNeighborsClassifier(n_neighbors=2)\n",
      "model.fit(dfTrain[:,:2], dfTrain[:,2])\n",
      "predicted = model.predict([57,37])\n",
      "print predicted"
     ],
     "language": "python",
     "metadata": {},
     "outputs": [
      {
       "output_type": "stream",
       "stream": "stdout",
       "text": [
        "['high']\n"
       ]
      }
     ],
     "prompt_number": 13
    },
    {
     "cell_type": "code",
     "collapsed": false,
     "input": [
      "from sklearn.cluster import KMeans\n",
      "\n",
      "# see the default parameters below; you can initialize with none, any, or all of these.\n",
      "model = KMeans(n_clusters=8, init='k-means++', n_init=10, max_iter=300, tol=0.0001, precompute_distances=True, verbose=0, random_state=None, copy_x=True, n_jobs=1)"
     ],
     "language": "python",
     "metadata": {},
     "outputs": [],
     "prompt_number": 14
    },
    {
     "cell_type": "code",
     "collapsed": false,
     "input": [],
     "language": "python",
     "metadata": {},
     "outputs": []
    }
   ],
   "metadata": {}
  }
 ]
}