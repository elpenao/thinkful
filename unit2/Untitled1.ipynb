{
 "metadata": {
  "name": "",
  "signature": "sha256:5eb2ad9ecc23e67de0f1dedf8eb435a53ed551359e1c415aa5784eed39e5070c"
 },
 "nbformat": 3,
 "nbformat_minor": 0,
 "worksheets": [
  {
   "cells": [
    {
     "cell_type": "code",
     "collapsed": false,
     "input": [
      "import numpy as np\n",
      "import pandas as pd\n",
      "import statsmodels.api as sm\n",
      "import matplotlib.pyplot as plt\n",
      "from sklearn import linear_model, datasets\n",
      "\n",
      "loansData = pd.read_csv('https://spark-public.s3.amazonaws.com/dataanalysis/loansData.csv')\n",
      "\n",
      "loansData.dropna(inplace=True)\n",
      "\n",
      "cleanInterestRate = loansData['Interest.Rate'].map(lambda x: round(float(x.rstrip('%')) / 100, 4))\n",
      "loansData['Interest.Rate'] = cleanInterestRate\n",
      "\n",
      "cleanLoanLength = loansData['Loan.Length'].map(lambda y: int(y.rstrip(' months')))\n",
      "loansData['Loan.Length'] = cleanLoanLength\n",
      "\n",
      "cleanFico = loansData['FICO.Range'].map(lambda x: x.split('-'))\n",
      "cleanFico = cleanFico.map(lambda z:[int(n) for n in z])\n",
      "simpleFico = [score[0] for score in cleanFico]\n",
      "loansData['FICO.Score'] = simpleFico\n",
      "\n",
      "loansData['lessthan12'] = loansData['Interest.Rate'].map(lambda x: True if x <= 0.12 else False)\n",
      "#print loansData['lessthan12'][1:10]\n",
      "loansData['constant'] = [1 for i in simpleFico]\n",
      "\n",
      "intrate = loansData['Interest.Rate']\n",
      "loanamt = loansData['Amount.Requested']\n",
      "fico = loansData['FICO.Score']\n",
      "lessthan12 = loansData['lessthan12']\n",
      "loanLength = loansData['Loan.Length']\n",
      "constant = loansData['constant']\n",
      "\n",
      "ind_vars = ['Amount.Requested','FICO.Score','constant']\n",
      "\n",
      "logit = sm.Logit(loansData['lessthan12'], loansData[ind_vars])\n",
      "\n",
      "result = logit.fit()\n",
      "\n",
      "coeff = result.params\n",
      "\n",
      "print coeff"
     ],
     "language": "python",
     "metadata": {},
     "outputs": [
      {
       "output_type": "stream",
       "stream": "stdout",
       "text": [
        "Optimization terminated successfully.\n",
        "         Current function value: 0.319276\n",
        "         Iterations 8\n",
        "Amount.Requested    -0.000174\n",
        "FICO.Score           0.087480\n",
        "constant           -60.171952\n",
        "dtype: float64\n"
       ]
      }
     ],
     "prompt_number": 1
    },
    {
     "cell_type": "code",
     "collapsed": false,
     "input": [
      "e = 2.71828\n",
      "intercept = 3.959676\n",
      "FicoScore = 720\n",
      "LoanAmount = 10000\n",
      "\n",
      "p = 1/(1 + e**(intercept - 0.008673 * FicoScore + 0.000019 * LoanAmount))\n",
      "\n",
      "print \"IR-Probability: \", p \n",
      "\n",
      "intercept = -60.171952\n",
      "\n",
      "def logistic_function(score,amount):\n",
      "\tp = 1/(1 + e**(intercept + 0.087423 * score - 0.000174 * amount))\n",
      "\tprint \"Lessthan12 prob: \", p\n",
      "\treturn\n",
      "\n",
      "logistic_function(800,10000)"
     ],
     "language": "python",
     "metadata": {},
     "outputs": [
      {
       "output_type": "stream",
       "stream": "stdout",
       "text": [
        "IR-Probability:  0.890404797855\n",
        "Lessthan12 prob:  0.000326601672661\n"
       ]
      }
     ],
     "prompt_number": 2
    },
    {
     "cell_type": "code",
     "collapsed": false,
     "input": [],
     "language": "python",
     "metadata": {},
     "outputs": []
    }
   ],
   "metadata": {}
  }
 ]
}