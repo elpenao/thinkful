{
 "metadata": {
  "name": "",
  "signature": "sha256:9d7c05962244bdf960ad8a7b13ae4d82eec15ae090d7ffd057184a8784e9f638"
 },
 "nbformat": 3,
 "nbformat_minor": 0,
 "worksheets": [
  {
   "cells": [
    {
     "cell_type": "code",
     "collapsed": false,
     "input": [
      "import pandas as pd\n",
      "df = pd.DataFrame({'rainy': [.4, .7], \n",
      "                   'sunny': [.6, .3]\n",
      "                  }, \n",
      "                  index=[\"rainy\", \"sunny\"])\n",
      "print df"
     ],
     "language": "python",
     "metadata": {},
     "outputs": [
      {
       "output_type": "stream",
       "stream": "stdout",
       "text": [
        "       rainy  sunny\n",
        "rainy    0.4    0.6\n",
        "sunny    0.7    0.3\n"
       ]
      }
     ],
     "prompt_number": 3
    },
    {
     "cell_type": "code",
     "collapsed": false,
     "input": [
      "print df.dot(df)"
     ],
     "language": "python",
     "metadata": {},
     "outputs": [
      {
       "output_type": "stream",
       "stream": "stdout",
       "text": [
        "       rainy  sunny\n",
        "rainy   0.58   0.42\n",
        "sunny   0.49   0.51\n"
       ]
      }
     ],
     "prompt_number": 4
    },
    {
     "cell_type": "code",
     "collapsed": false,
     "input": [
      "dfst = pd.DataFrame({'bull': [.9, .075, .025], \n",
      "                   'bear': [.8, .15, .05],\n",
      "                   'stagnant': [.5, .25, .25]\n",
      "                  }, \n",
      "                  index=[\"bull\", \"bear\", \"stagnant\"])"
     ],
     "language": "python",
     "metadata": {},
     "outputs": [],
     "prompt_number": 5
    },
    {
     "cell_type": "code",
     "collapsed": false,
     "input": [
      "dfst.dot(dfst)"
     ],
     "language": "python",
     "metadata": {},
     "outputs": [
      {
       "html": [
        "<div style=\"max-height:1000px;max-width:1500px;overflow:auto;\">\n",
        "<table border=\"1\" class=\"dataframe\">\n",
        "  <thead>\n",
        "    <tr style=\"text-align: right;\">\n",
        "      <th></th>\n",
        "      <th>bear</th>\n",
        "      <th>bull</th>\n",
        "      <th>stagnant</th>\n",
        "    </tr>\n",
        "  </thead>\n",
        "  <tbody>\n",
        "    <tr>\n",
        "      <th>bull</th>\n",
        "      <td> 0.865</td>\n",
        "      <td> 0.8825</td>\n",
        "      <td> 0.7750</td>\n",
        "    </tr>\n",
        "    <tr>\n",
        "      <th>bear</th>\n",
        "      <td> 0.095</td>\n",
        "      <td> 0.0850</td>\n",
        "      <td> 0.1375</td>\n",
        "    </tr>\n",
        "    <tr>\n",
        "      <th>stagnant</th>\n",
        "      <td> 0.040</td>\n",
        "      <td> 0.0325</td>\n",
        "      <td> 0.0875</td>\n",
        "    </tr>\n",
        "  </tbody>\n",
        "</table>\n",
        "</div>"
       ],
       "metadata": {},
       "output_type": "pyout",
       "prompt_number": 6,
       "text": [
        "           bear    bull  stagnant\n",
        "bull      0.865  0.8825    0.7750\n",
        "bear      0.095  0.0850    0.1375\n",
        "stagnant  0.040  0.0325    0.0875"
       ]
      }
     ],
     "prompt_number": 6
    },
    {
     "cell_type": "code",
     "collapsed": false,
     "input": [
      "for i in range(10):\n",
      "    dfst = dfst.dot(dfst)\n",
      "dfst"
     ],
     "language": "python",
     "metadata": {},
     "outputs": [
      {
       "html": [
        "<div style=\"max-height:1000px;max-width:1500px;overflow:auto;\">\n",
        "<table border=\"1\" class=\"dataframe\">\n",
        "  <thead>\n",
        "    <tr style=\"text-align: right;\">\n",
        "      <th></th>\n",
        "      <th>bear</th>\n",
        "      <th>bull</th>\n",
        "      <th>stagnant</th>\n",
        "    </tr>\n",
        "  </thead>\n",
        "  <tbody>\n",
        "    <tr>\n",
        "      <th>bull</th>\n",
        "      <td>NaN</td>\n",
        "      <td>NaN</td>\n",
        "      <td>NaN</td>\n",
        "    </tr>\n",
        "    <tr>\n",
        "      <th>bear</th>\n",
        "      <td>NaN</td>\n",
        "      <td>NaN</td>\n",
        "      <td>NaN</td>\n",
        "    </tr>\n",
        "    <tr>\n",
        "      <th>stagnant</th>\n",
        "      <td>NaN</td>\n",
        "      <td>NaN</td>\n",
        "      <td>NaN</td>\n",
        "    </tr>\n",
        "  </tbody>\n",
        "</table>\n",
        "</div>"
       ],
       "metadata": {},
       "output_type": "pyout",
       "prompt_number": 11,
       "text": [
        "          bear  bull  stagnant\n",
        "bull       NaN   NaN       NaN\n",
        "bear       NaN   NaN       NaN\n",
        "stagnant   NaN   NaN       NaN"
       ]
      }
     ],
     "prompt_number": 11
    },
    {
     "cell_type": "code",
     "collapsed": false,
     "input": [
      "dfst = pd.DataFrame({'bull': [.9, .075, .025], \n",
      "                   'bear': [.8, .15, .05],\n",
      "                   'stagnant': [.5, .25, .25]\n",
      "                  }, \n",
      "                  index=[\"bull\", \"bear\", \"stagnant\"])"
     ],
     "language": "python",
     "metadata": {},
     "outputs": [],
     "prompt_number": 26
    },
    {
     "cell_type": "code",
     "collapsed": false,
     "input": [
      "for i in range(50):\n",
      "    i = dfst\n",
      "    dfst = dfst.dot(i)\n",
      "dfst"
     ],
     "language": "python",
     "metadata": {},
     "outputs": [
      {
       "html": [
        "<div style=\"max-height:1000px;max-width:1500px;overflow:auto;\">\n",
        "<table border=\"1\" class=\"dataframe\">\n",
        "  <thead>\n",
        "    <tr style=\"text-align: right;\">\n",
        "      <th></th>\n",
        "      <th>bear</th>\n",
        "      <th>bull</th>\n",
        "      <th>stagnant</th>\n",
        "    </tr>\n",
        "  </thead>\n",
        "  <tbody>\n",
        "    <tr>\n",
        "      <th>bull</th>\n",
        "      <td> 0.950261</td>\n",
        "      <td> 0.950261</td>\n",
        "      <td> 0.950261</td>\n",
        "    </tr>\n",
        "    <tr>\n",
        "      <th>bear</th>\n",
        "      <td> 0.095026</td>\n",
        "      <td> 0.095026</td>\n",
        "      <td> 0.095026</td>\n",
        "    </tr>\n",
        "    <tr>\n",
        "      <th>stagnant</th>\n",
        "      <td> 0.038010</td>\n",
        "      <td> 0.038010</td>\n",
        "      <td> 0.038010</td>\n",
        "    </tr>\n",
        "  </tbody>\n",
        "</table>\n",
        "</div>"
       ],
       "metadata": {},
       "output_type": "pyout",
       "prompt_number": 25,
       "text": [
        "              bear      bull  stagnant\n",
        "bull      0.950261  0.950261  0.950261\n",
        "bear      0.095026  0.095026  0.095026\n",
        "stagnant  0.038010  0.038010  0.038010"
       ]
      }
     ],
     "prompt_number": 25
    },
    {
     "cell_type": "code",
     "collapsed": false,
     "input": [
      "i = dfst\n",
      "dfst = dfst.dot(i)"
     ],
     "language": "python",
     "metadata": {},
     "outputs": [],
     "prompt_number": 27
    },
    {
     "cell_type": "code",
     "collapsed": false,
     "input": [
      "i"
     ],
     "language": "python",
     "metadata": {},
     "outputs": [
      {
       "html": [
        "<div style=\"max-height:1000px;max-width:1500px;overflow:auto;\">\n",
        "<table border=\"1\" class=\"dataframe\">\n",
        "  <thead>\n",
        "    <tr style=\"text-align: right;\">\n",
        "      <th></th>\n",
        "      <th>bear</th>\n",
        "      <th>bull</th>\n",
        "      <th>stagnant</th>\n",
        "    </tr>\n",
        "  </thead>\n",
        "  <tbody>\n",
        "    <tr>\n",
        "      <th>bull</th>\n",
        "      <td> 0.80</td>\n",
        "      <td> 0.900</td>\n",
        "      <td> 0.50</td>\n",
        "    </tr>\n",
        "    <tr>\n",
        "      <th>bear</th>\n",
        "      <td> 0.15</td>\n",
        "      <td> 0.075</td>\n",
        "      <td> 0.25</td>\n",
        "    </tr>\n",
        "    <tr>\n",
        "      <th>stagnant</th>\n",
        "      <td> 0.05</td>\n",
        "      <td> 0.025</td>\n",
        "      <td> 0.25</td>\n",
        "    </tr>\n",
        "  </tbody>\n",
        "</table>\n",
        "</div>"
       ],
       "metadata": {},
       "output_type": "pyout",
       "prompt_number": 28,
       "text": [
        "          bear   bull  stagnant\n",
        "bull      0.80  0.900      0.50\n",
        "bear      0.15  0.075      0.25\n",
        "stagnant  0.05  0.025      0.25"
       ]
      }
     ],
     "prompt_number": 28
    },
    {
     "cell_type": "code",
     "collapsed": false,
     "input": [
      "dfst"
     ],
     "language": "python",
     "metadata": {},
     "outputs": [
      {
       "html": [
        "<div style=\"max-height:1000px;max-width:1500px;overflow:auto;\">\n",
        "<table border=\"1\" class=\"dataframe\">\n",
        "  <thead>\n",
        "    <tr style=\"text-align: right;\">\n",
        "      <th></th>\n",
        "      <th>bear</th>\n",
        "      <th>bull</th>\n",
        "      <th>stagnant</th>\n",
        "    </tr>\n",
        "  </thead>\n",
        "  <tbody>\n",
        "    <tr>\n",
        "      <th>bull</th>\n",
        "      <td> 0.865</td>\n",
        "      <td> 0.8825</td>\n",
        "      <td> 0.7750</td>\n",
        "    </tr>\n",
        "    <tr>\n",
        "      <th>bear</th>\n",
        "      <td> 0.095</td>\n",
        "      <td> 0.0850</td>\n",
        "      <td> 0.1375</td>\n",
        "    </tr>\n",
        "    <tr>\n",
        "      <th>stagnant</th>\n",
        "      <td> 0.040</td>\n",
        "      <td> 0.0325</td>\n",
        "      <td> 0.0875</td>\n",
        "    </tr>\n",
        "  </tbody>\n",
        "</table>\n",
        "</div>"
       ],
       "metadata": {},
       "output_type": "pyout",
       "prompt_number": 29,
       "text": [
        "           bear    bull  stagnant\n",
        "bull      0.865  0.8825    0.7750\n",
        "bear      0.095  0.0850    0.1375\n",
        "stagnant  0.040  0.0325    0.0875"
       ]
      }
     ],
     "prompt_number": 29
    },
    {
     "cell_type": "code",
     "collapsed": false,
     "input": [
      "i = dfst"
     ],
     "language": "python",
     "metadata": {},
     "outputs": [],
     "prompt_number": 30
    },
    {
     "cell_type": "code",
     "collapsed": false,
     "input": [
      "i"
     ],
     "language": "python",
     "metadata": {},
     "outputs": [
      {
       "html": [
        "<div style=\"max-height:1000px;max-width:1500px;overflow:auto;\">\n",
        "<table border=\"1\" class=\"dataframe\">\n",
        "  <thead>\n",
        "    <tr style=\"text-align: right;\">\n",
        "      <th></th>\n",
        "      <th>bear</th>\n",
        "      <th>bull</th>\n",
        "      <th>stagnant</th>\n",
        "    </tr>\n",
        "  </thead>\n",
        "  <tbody>\n",
        "    <tr>\n",
        "      <th>bull</th>\n",
        "      <td> 0.865</td>\n",
        "      <td> 0.8825</td>\n",
        "      <td> 0.7750</td>\n",
        "    </tr>\n",
        "    <tr>\n",
        "      <th>bear</th>\n",
        "      <td> 0.095</td>\n",
        "      <td> 0.0850</td>\n",
        "      <td> 0.1375</td>\n",
        "    </tr>\n",
        "    <tr>\n",
        "      <th>stagnant</th>\n",
        "      <td> 0.040</td>\n",
        "      <td> 0.0325</td>\n",
        "      <td> 0.0875</td>\n",
        "    </tr>\n",
        "  </tbody>\n",
        "</table>\n",
        "</div>"
       ],
       "metadata": {},
       "output_type": "pyout",
       "prompt_number": 31,
       "text": [
        "           bear    bull  stagnant\n",
        "bull      0.865  0.8825    0.7750\n",
        "bear      0.095  0.0850    0.1375\n",
        "stagnant  0.040  0.0325    0.0875"
       ]
      }
     ],
     "prompt_number": 31
    },
    {
     "cell_type": "code",
     "collapsed": false,
     "input": [],
     "language": "python",
     "metadata": {},
     "outputs": []
    }
   ],
   "metadata": {}
  }
 ]
}