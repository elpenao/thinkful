{
 "metadata": {
  "name": "",
  "signature": "sha256:4083dcb94923bb914cd9c40d63d45ac8061b7f6ac6b97a33615bb6e48320fc25"
 },
 "nbformat": 3,
 "nbformat_minor": 0,
 "worksheets": [
  {
   "cells": [
    {
     "cell_type": "code",
     "collapsed": false,
     "input": [
      "import pandas as pd\n",
      "df = pd.DataFrame({'rainy': [.4, .7], \n",
      "                   'sunny': [.6, .3]\n",
      "                  }, \n",
      "                  index=[\"rainy\", \"sunny\"])\n",
      "print df"
     ],
     "language": "python",
     "metadata": {},
     "outputs": [
      {
       "output_type": "stream",
       "stream": "stdout",
       "text": [
        "       rainy  sunny\n",
        "rainy    0.4    0.6\n",
        "sunny    0.7    0.3\n"
       ]
      }
     ],
     "prompt_number": 6
    },
    {
     "cell_type": "code",
     "collapsed": false,
     "input": [
      "df.dot(df).dot(df)"
     ],
     "language": "python",
     "metadata": {},
     "outputs": [
      {
       "html": [
        "<div style=\"max-height:1000px;max-width:1500px;overflow:auto;\">\n",
        "<table border=\"1\" class=\"dataframe\">\n",
        "  <thead>\n",
        "    <tr style=\"text-align: right;\">\n",
        "      <th></th>\n",
        "      <th>rainy</th>\n",
        "      <th>sunny</th>\n",
        "    </tr>\n",
        "  </thead>\n",
        "  <tbody>\n",
        "    <tr>\n",
        "      <th>rainy</th>\n",
        "      <td> 0.526</td>\n",
        "      <td> 0.474</td>\n",
        "    </tr>\n",
        "    <tr>\n",
        "      <th>sunny</th>\n",
        "      <td> 0.553</td>\n",
        "      <td> 0.447</td>\n",
        "    </tr>\n",
        "  </tbody>\n",
        "</table>\n",
        "</div>"
       ],
       "metadata": {},
       "output_type": "pyout",
       "prompt_number": 27,
       "text": [
        "       rainy  sunny\n",
        "rainy  0.526  0.474\n",
        "sunny  0.553  0.447"
       ]
      }
     ],
     "prompt_number": 27
    },
    {
     "cell_type": "code",
     "collapsed": false,
     "input": [
      "dfst = pd.DataFrame({'bull': [.9, .075, .025], \n",
      "                   'bear': [.8, .15, .05],\n",
      "                   'stagnant': [.5, .25, .25]\n",
      "               }, \n",
      "                  index=[\"bull\", \"bear\", \"stagnant\"])\n",
      "print dfst.dot(dfst).dot(dfst).dot(dfst)\n",
      "print np.linalg.matrix_power(z,4)"
     ],
     "language": "python",
     "metadata": {},
     "outputs": [
      {
       "output_type": "stream",
       "stream": "stdout",
       "text": [
        "              bear      bull  stagnant\n",
        "bull      0.876538  0.877519  0.870688\n",
        "bear      0.088050  0.087556  0.090969\n",
        "stagnant  0.035413  0.034925  0.038344\n",
        "[[ 0.7971875   0.79734375  0.7953125 ]\n",
        " [ 0.14490234  0.14487305  0.14541016]\n",
        " [ 0.05791016  0.0577832   0.05927734]]\n"
       ]
      }
     ],
     "prompt_number": 69
    },
    {
     "cell_type": "code",
     "collapsed": false,
     "input": [
      "df = pd.DataFrame({'rainy': [.4, .7], \n",
      "                   'sunny': [.6, .3]\n",
      "                  }, \n",
      "                  index=[\"rainy\", \"sunny\"])\n",
      "print df.dot(df).dot(df).dot(df)\n",
      "q = np.array(df)\n",
      "print np.linalg.matrix_power(q,4)"
     ],
     "language": "python",
     "metadata": {},
     "outputs": [
      {
       "output_type": "stream",
       "stream": "stdout",
       "text": [
        "        rainy   sunny\n",
        "rainy  0.5422  0.4578\n",
        "sunny  0.5341  0.4659\n",
        "[[ 0.5422  0.4578]\n",
        " [ 0.5341  0.4659]]\n"
       ]
      }
     ],
     "prompt_number": 49
    },
    {
     "cell_type": "code",
     "collapsed": false,
     "input": [],
     "language": "python",
     "metadata": {},
     "outputs": []
    }
   ],
   "metadata": {}
  }
 ]
}