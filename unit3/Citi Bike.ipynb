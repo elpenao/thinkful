{
 "metadata": {
  "name": "",
  "signature": "sha256:efd7b5c8a74bbf57fce29720ac87e92afef26b26099884bff7fd080359628afe"
 },
 "nbformat": 3,
 "nbformat_minor": 0,
 "worksheets": [
  {
   "cells": [
    {
     "cell_type": "code",
     "collapsed": false,
     "input": [
      "import requests"
     ],
     "language": "python",
     "metadata": {},
     "outputs": [],
     "prompt_number": 1
    },
    {
     "cell_type": "code",
     "collapsed": false,
     "input": [
      "r = requests.get('http://www.citibikenyc.com/stations/json')"
     ],
     "language": "python",
     "metadata": {},
     "outputs": [],
     "prompt_number": 2
    },
    {
     "cell_type": "code",
     "collapsed": false,
     "input": [
      "len(r.json()['stationBeanList'])"
     ],
     "language": "python",
     "metadata": {},
     "outputs": [
      {
       "metadata": {},
       "output_type": "pyout",
       "prompt_number": 3,
       "text": [
        "328"
       ]
      }
     ],
     "prompt_number": 3
    },
    {
     "cell_type": "code",
     "collapsed": false,
     "input": [
      "key_list = [] #unique list of keys for each station listing\n",
      "for station in r.json()['stationBeanList']:\n",
      "    for k in station.keys():\n",
      "        if k not in key_list:\n",
      "            key_list.append(k)"
     ],
     "language": "python",
     "metadata": {},
     "outputs": [],
     "prompt_number": 4
    },
    {
     "cell_type": "code",
     "collapsed": false,
     "input": [
      "key_list"
     ],
     "language": "python",
     "metadata": {},
     "outputs": [
      {
       "metadata": {},
       "output_type": "pyout",
       "prompt_number": 5,
       "text": [
        "[u'availableDocks',\n",
        " u'totalDocks',\n",
        " u'city',\n",
        " u'altitude',\n",
        " u'stAddress2',\n",
        " u'longitude',\n",
        " u'lastCommunicationTime',\n",
        " u'postalCode',\n",
        " u'statusValue',\n",
        " u'testStation',\n",
        " u'stAddress1',\n",
        " u'stationName',\n",
        " u'landMark',\n",
        " u'latitude',\n",
        " u'statusKey',\n",
        " u'availableBikes',\n",
        " u'id',\n",
        " u'location']"
       ]
      }
     ],
     "prompt_number": 5
    },
    {
     "cell_type": "code",
     "collapsed": false,
     "input": [
      "from pandas.io.json import json_normalize"
     ],
     "language": "python",
     "metadata": {},
     "outputs": [],
     "prompt_number": 6
    },
    {
     "cell_type": "code",
     "collapsed": false,
     "input": [
      "df = json_normalize(r.json()['stationBeanList'])"
     ],
     "language": "python",
     "metadata": {},
     "outputs": [],
     "prompt_number": 7
    },
    {
     "cell_type": "code",
     "collapsed": false,
     "input": [
      "import matplotlib.pyplot as plt\n",
      "import pandas as pd\n",
      "%matplotlib inline"
     ],
     "language": "python",
     "metadata": {},
     "outputs": [],
     "prompt_number": 8
    },
    {
     "cell_type": "code",
     "collapsed": false,
     "input": [
      "df['availableBikes'].hist()\n",
      "plt.show()"
     ],
     "language": "python",
     "metadata": {},
     "outputs": [
      {
       "metadata": {},
       "output_type": "display_data",
       "png": "[encoded data removed]",
       "text": [
        "<matplotlib.figure.Figure at 0x109918350>"
       ]
      }
     ],
     "prompt_number": 9
    },
    {
     "cell_type": "code",
     "collapsed": false,
     "input": [
      "df['totalDocks'].hist()\n",
      "plt.show()"
     ],
     "language": "python",
     "metadata": {},
     "outputs": [
      {
       "metadata": {},
       "output_type": "display_data",
       "png": "[encoded data removed]",
       "text": [
        "<matplotlib.figure.Figure at 0x109a66e50>"
       ]
      }
     ],
     "prompt_number": 10
    },
    {
     "cell_type": "code",
     "collapsed": false,
     "input": [
      "print df.groupby('statusValue').mean()"
     ],
     "language": "python",
     "metadata": {},
     "outputs": [
      {
       "output_type": "stream",
       "stream": "stdout",
       "text": [
        "                availableBikes  availableDocks          id   latitude  \\\n",
        "statusValue                                                             \n",
        "In Service            8.423567       24.853503  443.640127  40.726366   \n",
        "Not In Service        4.642857       24.142857  446.357143  40.723021   \n",
        "\n",
        "                longitude  statusKey testStation  totalDocks  \n",
        "statusValue                                                   \n",
        "In Service     -73.987508          1       False   34.907643  \n",
        "Not In Service -73.992731          3       False   29.000000  \n"
       ]
      }
     ],
     "prompt_number": 29
    },
    {
     "cell_type": "code",
     "collapsed": false,
     "input": [
      "import sqlite3 as lite"
     ],
     "language": "python",
     "metadata": {},
     "outputs": [],
     "prompt_number": 30
    },
    {
     "cell_type": "code",
     "collapsed": false,
     "input": [
      "con = lite.connect('citi_bike.db')\n",
      "cur = con.cursor()"
     ],
     "language": "python",
     "metadata": {},
     "outputs": [],
     "prompt_number": 31
    },
    {
     "cell_type": "code",
     "collapsed": false,
     "input": [
      "with con:\n",
      "    cur.execute('CREATE TABLE citibike_reference (id INT PRIMARY KEY, totalDocks INT, city TEXT, altitude INT, stAddress2 TEXT, longitude NUMERIC, postalCode TEXT, testStation TEXT, stAddress1 TEXT, stationName TEXT, landMark TEXT, latitude NUMERIC, location TEXT )')"
     ],
     "language": "python",
     "metadata": {},
     "outputs": [],
     "prompt_number": 32
    },
    {
     "cell_type": "code",
     "collapsed": false,
     "input": [
      "#a prepared SQL statement we're going to execute over and over again\n",
      "sql = \"INSERT INTO citibike_reference (id, totalDocks, city, altitude, stAddress2, longitude, postalCode, testStation, stAddress1, stationName, landMark, latitude, location) VALUES (?,?,?,?,?,?,?,?,?,?,?,?,?)\"\n"
     ],
     "language": "python",
     "metadata": {},
     "outputs": [],
     "prompt_number": 33
    },
    {
     "cell_type": "code",
     "collapsed": false,
     "input": [
      "#for loop to populate values in the database\n",
      "with con:\n",
      "    for station in r.json()['stationBeanList']:\n",
      "        #id, totalDocks, city, altitude, stAddress2, longitude, postalCode, testStation, stAddress1, stationName, landMark, latitude, location)\n",
      "        cur.execute(sql,(station['id'],station['totalDocks'],station['city'],station['altitude'],station['stAddress2'],station['longitude'],station['postalCode'],station['testStation'],station['stAddress1'],station['stationName'],station['landMark'],station['latitude'],station['location']))"
     ],
     "language": "python",
     "metadata": {},
     "outputs": [],
     "prompt_number": 34
    },
    {
     "cell_type": "code",
     "collapsed": false,
     "input": [
      "#extract the column from the DataFrame and put them into a list\n",
      "station_ids = df['id'].tolist() \n",
      "\n",
      "#add the '_' to the station name and also add the data type for SQLite\n",
      "station_ids = ['_' + str(x) + ' INT' for x in station_ids]\n",
      "\n",
      "#create the table\n",
      "#in this case, we're concatentating the string and joining all the station ids (now with '_' and 'INT' added)\n",
      "with con:\n",
      "    cur.execute(\"CREATE TABLE available_bikes ( execution_time INT, \" +  \", \".join(station_ids) + \");\")"
     ],
     "language": "python",
     "metadata": {},
     "outputs": [],
     "prompt_number": 38
    },
    {
     "cell_type": "code",
     "collapsed": false,
     "input": [
      "# a package with datetime objects\n",
      "import time\n",
      "\n",
      "# a package for parsing a string into a Python datetime object\n",
      "from dateutil.parser import parse \n",
      "\n",
      "import collections\n",
      "\n",
      "\n",
      "#take the string and parse it into a Python datetime object\n",
      "exec_time = parse(r.json()['executionTime'])"
     ],
     "language": "python",
     "metadata": {},
     "outputs": [],
     "prompt_number": 39
    },
    {
     "cell_type": "code",
     "collapsed": false,
     "input": [
      "with con:\n",
      "    cur.execute('INSERT INTO available_bikes (execution_time) VALUES (?)', (exec_time.strftime('%s'),))"
     ],
     "language": "python",
     "metadata": {},
     "outputs": [],
     "prompt_number": 40
    },
    {
     "cell_type": "code",
     "collapsed": false,
     "input": [
      "id_bikes = collections.defaultdict(int) #defaultdict to store available bikes by station\n",
      "\n",
      "#loop through the stations in the station list\n",
      "for station in r.json()['stationBeanList']:\n",
      "    id_bikes[station['id']] = station['availableBikes']\n",
      "\n",
      "#iterate through the defaultdict to update the values in the database\n",
      "with con:\n",
      "    for k, v in id_bikes.iteritems():\n",
      "        cur.execute(\"UPDATE available_bikes SET _\" + str(k) + \" = \" + str(v) + \" WHERE execution_time = \" + exec_time.strftime('%s') + \";\")"
     ],
     "language": "python",
     "metadata": {},
     "outputs": [],
     "prompt_number": 41
    },
    {
     "cell_type": "code",
     "collapsed": false,
     "input": [],
     "language": "python",
     "metadata": {},
     "outputs": []
    }
   ],
   "metadata": {}
  }
 ]
}