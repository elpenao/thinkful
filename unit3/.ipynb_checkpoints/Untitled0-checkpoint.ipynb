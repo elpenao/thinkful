{
 "metadata": {
  "name": "",
  "signature": "sha256:bebb83e3964d3173e768eddd218b792789417731b43c6ddd0e0aa6e8ea7cdac6"
 },
 "nbformat": 3,
 "nbformat_minor": 0,
 "worksheets": []
}