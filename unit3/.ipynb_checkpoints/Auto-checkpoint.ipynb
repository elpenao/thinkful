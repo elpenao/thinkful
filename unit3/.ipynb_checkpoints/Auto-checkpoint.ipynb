{
 "metadata": {
  "name": "",
  "signature": "sha256:0ada58b21d518b42ff132e2de33849b4d29cb7e96b170eead9be34cd6d63978a"
 },
 "nbformat": 3,
 "nbformat_minor": 0,
 "worksheets": [
  {
   "cells": [
    {
     "cell_type": "code",
     "collapsed": false,
     "input": [
      "import requests\n",
      "import sqlite3 as lite\n",
      "import time\n",
      "from dateutil.parser import parse \n",
      "import collections\n",
      "import pandas as pd"
     ],
     "language": "python",
     "metadata": {},
     "outputs": [],
     "prompt_number": 2
    },
    {
     "cell_type": "code",
     "collapsed": false,
     "input": [
      "con = lite.connect('citi_bike.db')\n",
      "cur = con.cursor()"
     ],
     "language": "python",
     "metadata": {},
     "outputs": [],
     "prompt_number": 3
    },
    {
     "cell_type": "code",
     "collapsed": false,
     "input": [
      "for i in range(60):\n",
      "    r = requests.get('http://www.citibikenyc.com/stations/json')\n",
      "    exec_time = parse(r.json()['executionTime'])\n",
      "\n",
      "    cur.execute('INSERT INTO available_bikes (execution_time) VALUES (?)', (exec_time.strftime('%s'),))\n",
      "    con.commit()\n",
      "\n",
      "    id_bikes = collections.defaultdict(int)\n",
      "    for station in r.json()['stationBeanList']:\n",
      "        id_bikes[station['id']] = station['availableBikes']\n",
      "\n",
      "    for k, v in id_bikes.iteritems():\n",
      "        cur.execute(\"UPDATE available_bikes SET _\" + str(k) + \" = \" + str(v) + \" WHERE execution_time = \" + exec_time.strftime('%s') + \";\")\n",
      "    con.commit()\n",
      "\n",
      "    time.sleep(60)\n",
      "\n",
      "con.close() #close the database connection when done"
     ],
     "language": "python",
     "metadata": {},
     "outputs": [],
     "prompt_number": 3
    },
    {
     "cell_type": "code",
     "collapsed": false,
     "input": [
      "con = lite.connect('citi_bike.db')\n",
      "cur = con.cursor()\n",
      "df = pd.read_sql_query(\"SELECT * FROM available_bikes ORDER BY execution_time\",con,index_col='execution_time')"
     ],
     "language": "python",
     "metadata": {},
     "outputs": [],
     "prompt_number": 4
    },
    {
     "cell_type": "code",
     "collapsed": false,
     "input": [
      "df.head()"
     ],
     "language": "python",
     "metadata": {},
     "outputs": [
      {
       "html": [
        "<div style=\"max-height:1000px;max-width:1500px;overflow:auto;\">\n",
        "<table border=\"1\" class=\"dataframe\">\n",
        "  <thead>\n",
        "    <tr style=\"text-align: right;\">\n",
        "      <th></th>\n",
        "      <th>_72</th>\n",
        "      <th>_79</th>\n",
        "      <th>_82</th>\n",
        "      <th>_83</th>\n",
        "      <th>_116</th>\n",
        "      <th>_119</th>\n",
        "      <th>_120</th>\n",
        "      <th>_127</th>\n",
        "      <th>_128</th>\n",
        "      <th>_137</th>\n",
        "      <th>...</th>\n",
        "      <th>_2006</th>\n",
        "      <th>_2008</th>\n",
        "      <th>_2009</th>\n",
        "      <th>_2010</th>\n",
        "      <th>_2012</th>\n",
        "      <th>_2017</th>\n",
        "      <th>_2021</th>\n",
        "      <th>_2022</th>\n",
        "      <th>_2023</th>\n",
        "      <th>_3002</th>\n",
        "    </tr>\n",
        "    <tr>\n",
        "      <th>execution_time</th>\n",
        "      <th></th>\n",
        "      <th></th>\n",
        "      <th></th>\n",
        "      <th></th>\n",
        "      <th></th>\n",
        "      <th></th>\n",
        "      <th></th>\n",
        "      <th></th>\n",
        "      <th></th>\n",
        "      <th></th>\n",
        "      <th></th>\n",
        "      <th></th>\n",
        "      <th></th>\n",
        "      <th></th>\n",
        "      <th></th>\n",
        "      <th></th>\n",
        "      <th></th>\n",
        "      <th></th>\n",
        "      <th></th>\n",
        "      <th></th>\n",
        "      <th></th>\n",
        "    </tr>\n",
        "  </thead>\n",
        "  <tbody>\n",
        "    <tr>\n",
        "      <th>1430592655</th>\n",
        "      <td> 2</td>\n",
        "      <td>  1</td>\n",
        "      <td> 3</td>\n",
        "      <td> 27</td>\n",
        "      <td> 0</td>\n",
        "      <td> 13</td>\n",
        "      <td>  5</td>\n",
        "      <td> 20</td>\n",
        "      <td> 11</td>\n",
        "      <td> 10</td>\n",
        "      <td>...</td>\n",
        "      <td> 13</td>\n",
        "      <td> 2</td>\n",
        "      <td> 10</td>\n",
        "      <td> 10</td>\n",
        "      <td> 2</td>\n",
        "      <td> 0</td>\n",
        "      <td> 3</td>\n",
        "      <td>  2</td>\n",
        "      <td> 2</td>\n",
        "      <td> 2</td>\n",
        "    </tr>\n",
        "    <tr>\n",
        "      <th>1430782840</th>\n",
        "      <td> 9</td>\n",
        "      <td> 13</td>\n",
        "      <td> 1</td>\n",
        "      <td> 27</td>\n",
        "      <td> 0</td>\n",
        "      <td> 11</td>\n",
        "      <td> 10</td>\n",
        "      <td> 23</td>\n",
        "      <td>  7</td>\n",
        "      <td>  0</td>\n",
        "      <td>...</td>\n",
        "      <td>  4</td>\n",
        "      <td> 1</td>\n",
        "      <td>  6</td>\n",
        "      <td> 11</td>\n",
        "      <td> 1</td>\n",
        "      <td> 0</td>\n",
        "      <td> 1</td>\n",
        "      <td> 25</td>\n",
        "      <td> 1</td>\n",
        "      <td> 3</td>\n",
        "    </tr>\n",
        "    <tr>\n",
        "      <th>1430782905</th>\n",
        "      <td> 9</td>\n",
        "      <td> 13</td>\n",
        "      <td> 1</td>\n",
        "      <td> 27</td>\n",
        "      <td> 0</td>\n",
        "      <td> 12</td>\n",
        "      <td> 10</td>\n",
        "      <td> 21</td>\n",
        "      <td>  6</td>\n",
        "      <td>  0</td>\n",
        "      <td>...</td>\n",
        "      <td>  2</td>\n",
        "      <td> 0</td>\n",
        "      <td>  6</td>\n",
        "      <td> 11</td>\n",
        "      <td> 1</td>\n",
        "      <td> 0</td>\n",
        "      <td> 1</td>\n",
        "      <td> 26</td>\n",
        "      <td> 1</td>\n",
        "      <td> 3</td>\n",
        "    </tr>\n",
        "    <tr>\n",
        "      <th>1430782981</th>\n",
        "      <td> 8</td>\n",
        "      <td> 13</td>\n",
        "      <td> 2</td>\n",
        "      <td> 28</td>\n",
        "      <td> 0</td>\n",
        "      <td> 12</td>\n",
        "      <td> 10</td>\n",
        "      <td> 22</td>\n",
        "      <td>  6</td>\n",
        "      <td>  0</td>\n",
        "      <td>...</td>\n",
        "      <td>  4</td>\n",
        "      <td> 0</td>\n",
        "      <td>  6</td>\n",
        "      <td> 11</td>\n",
        "      <td> 1</td>\n",
        "      <td> 0</td>\n",
        "      <td> 0</td>\n",
        "      <td> 27</td>\n",
        "      <td> 3</td>\n",
        "      <td> 3</td>\n",
        "    </tr>\n",
        "    <tr>\n",
        "      <th>1430783035</th>\n",
        "      <td> 8</td>\n",
        "      <td> 13</td>\n",
        "      <td> 2</td>\n",
        "      <td> 28</td>\n",
        "      <td> 0</td>\n",
        "      <td> 12</td>\n",
        "      <td> 10</td>\n",
        "      <td> 22</td>\n",
        "      <td>  6</td>\n",
        "      <td>  0</td>\n",
        "      <td>...</td>\n",
        "      <td>  3</td>\n",
        "      <td> 1</td>\n",
        "      <td>  6</td>\n",
        "      <td> 11</td>\n",
        "      <td> 1</td>\n",
        "      <td> 0</td>\n",
        "      <td> 0</td>\n",
        "      <td> 27</td>\n",
        "      <td> 2</td>\n",
        "      <td> 2</td>\n",
        "    </tr>\n",
        "  </tbody>\n",
        "</table>\n",
        "<p>5 rows \u00d7 328 columns</p>\n",
        "</div>"
       ],
       "metadata": {},
       "output_type": "pyout",
       "prompt_number": 5,
       "text": [
        "                _72  _79  _82  _83  _116  _119  _120  _127  _128  _137  ...   \\\n",
        "execution_time                                                          ...    \n",
        "1430592655        2    1    3   27     0    13     5    20    11    10  ...    \n",
        "1430782840        9   13    1   27     0    11    10    23     7     0  ...    \n",
        "1430782905        9   13    1   27     0    12    10    21     6     0  ...    \n",
        "1430782981        8   13    2   28     0    12    10    22     6     0  ...    \n",
        "1430783035        8   13    2   28     0    12    10    22     6     0  ...    \n",
        "\n",
        "                _2006  _2008  _2009  _2010  _2012  _2017  _2021  _2022  _2023  \\\n",
        "execution_time                                                                  \n",
        "1430592655         13      2     10     10      2      0      3      2      2   \n",
        "1430782840          4      1      6     11      1      0      1     25      1   \n",
        "1430782905          2      0      6     11      1      0      1     26      1   \n",
        "1430782981          4      0      6     11      1      0      0     27      3   \n",
        "1430783035          3      1      6     11      1      0      0     27      2   \n",
        "\n",
        "                _3002  \n",
        "execution_time         \n",
        "1430592655          2  \n",
        "1430782840          3  \n",
        "1430782905          3  \n",
        "1430782981          3  \n",
        "1430783035          2  \n",
        "\n",
        "[5 rows x 328 columns]"
       ]
      }
     ],
     "prompt_number": 5
    },
    {
     "cell_type": "code",
     "collapsed": false,
     "input": [
      "df[col].tolist()"
     ],
     "language": "python",
     "metadata": {},
     "outputs": [
      {
       "ename": "NameError",
       "evalue": "name 'col' is not defined",
       "output_type": "pyerr",
       "traceback": [
        "\u001b[0;31m---------------------------------------------------------------------------\u001b[0m\n\u001b[0;31mNameError\u001b[0m                                 Traceback (most recent call last)",
        "\u001b[0;32m<ipython-input-6-b6082cbf69ff>\u001b[0m in \u001b[0;36m<module>\u001b[0;34m()\u001b[0m\n\u001b[0;32m----> 1\u001b[0;31m \u001b[0mdf\u001b[0m\u001b[0;34m[\u001b[0m\u001b[0mcol\u001b[0m\u001b[0;34m]\u001b[0m\u001b[0;34m.\u001b[0m\u001b[0mtolist\u001b[0m\u001b[0;34m(\u001b[0m\u001b[0;34m)\u001b[0m\u001b[0;34m\u001b[0m\u001b[0m\n\u001b[0m",
        "\u001b[0;31mNameError\u001b[0m: name 'col' is not defined"
       ]
      }
     ],
     "prompt_number": 6
    },
    {
     "cell_type": "code",
     "collapsed": false,
     "input": [
      "df.columns"
     ],
     "language": "python",
     "metadata": {},
     "outputs": [
      {
       "metadata": {},
       "output_type": "pyout",
       "prompt_number": 7,
       "text": [
        "Index([u'_72', u'_79', u'_82', u'_83', u'_116', u'_119', u'_120', u'_127', u'_128', u'_137', u'_143', u'_144', u'_146', u'_147', u'_150', u'_151', u'_152', u'_153', u'_157', u'_160', u'_161', u'_164', u'_167', u'_168', u'_173', u'_174', u'_195', u'_212', u'_216', u'_217', u'_218', u'_223', u'_224', u'_225', u'_228', u'_229', u'_232', u'_233', u'_236', u'_237', u'_238', u'_239', u'_241', u'_242', u'_243', u'_244', u'_245', u'_247', u'_248', u'_249', u'_250', u'_251', u'_252', u'_253', u'_254', u'_257', u'_258', u'_259', u'_260', u'_261', u'_262', u'_263', u'_264', u'_265', u'_266', u'_267', u'_268', u'_270', u'_271', u'_274', u'_275', u'_276', u'_278', u'_279', u'_280', u'_281', u'_282', u'_284', u'_285', u'_289', u'_290', u'_291', u'_293', u'_294', u'_295', u'_296', u'_297', u'_298', u'_300', u'_301', u'_302', u'_303', u'_304', u'_305', u'_306', u'_307', u'_308', u'_309', u'_310', u'_311', ...], dtype='object')"
       ]
      }
     ],
     "prompt_number": 7
    },
    {
     "cell_type": "code",
     "collapsed": false,
     "input": [
      "df[u'_72']"
     ],
     "language": "python",
     "metadata": {},
     "outputs": [
      {
       "metadata": {},
       "output_type": "pyout",
       "prompt_number": 10,
       "text": [
        "execution_time\n",
        "1430592655        2\n",
        "1430782840        9\n",
        "1430782905        9\n",
        "1430782981        8\n",
        "1430783035        8\n",
        "1430783100        8\n",
        "1430783154        7\n",
        "1430783219        7\n",
        "1430783273        7\n",
        "1430783337        7\n",
        "1430783391        6\n",
        "1430783457        6\n",
        "1430783511        6\n",
        "1430783575        6\n",
        "1430783640        6\n",
        "...\n",
        "1430785573        9\n",
        "1430785627        8\n",
        "1430785692        8\n",
        "1430785746        8\n",
        "1430785811        8\n",
        "1430785876        8\n",
        "1430785930        8\n",
        "1430785995        8\n",
        "1430786049        8\n",
        "1430786114        8\n",
        "1430786168        8\n",
        "1430786233        8\n",
        "1430786287        8\n",
        "1430786351        8\n",
        "1430786416        8\n",
        "Name: _72, Length: 61, dtype: int64"
       ]
      }
     ],
     "prompt_number": 10
    },
    {
     "cell_type": "code",
     "collapsed": false,
     "input": [
      "hour_change = collections.defaultdict(int)\n",
      "for col in df.columns:\n",
      "    station_vals = df[col].tolist()\n",
      "    station_id = col[1:] #trim the \"_\"\n",
      "    station_change = 0\n",
      "    for k,v in enumerate(station_vals):\n",
      "        if k < len(station_vals) - 1:\n",
      "            station_change += abs(station_vals[k] - station_vals[k+1])\n",
      "    hour_change[int(station_id)] = station_change #convert the station id back to integer"
     ],
     "language": "python",
     "metadata": {},
     "outputs": [],
     "prompt_number": 11
    },
    {
     "cell_type": "code",
     "collapsed": false,
     "input": [
      "hour_change"
     ],
     "language": "python",
     "metadata": {},
     "outputs": [
      {
       "metadata": {},
       "output_type": "pyout",
       "prompt_number": 12,
       "text": [
        "defaultdict(<type 'int'>, {512: 22, 513: 8, 514: 33, 515: 51, 516: 13, 517: 6, 518: 18, 519: 36, 520: 8, 521: 43, 522: 1, 523: 43, 524: 7, 525: 9, 526: 8, 527: 17, 528: 18, 529: 30, 530: 42, 531: 23, 532: 12, 533: 20, 534: 1, 536: 10, 537: 11, 538: 14, 539: 15, 2022: 32, 545: 33, 546: 4, 2012: 7, 72: 16, 2000: 10, 79: 29, 82: 9, 83: 7, 3002: 16, 2002: 15, 116: 0, 2004: 20, 119: 4, 120: 6, 2009: 6, 127: 38, 128: 34, 137: 12, 143: 6, 144: 10, 146: 18, 147: 23, 150: 33, 151: 19, 152: 22, 153: 30, 157: 14, 160: 11, 161: 27, 2017: 1, 164: 6, 167: 7, 168: 0, 173: 15, 174: 29, 2023: 10, 2006: 20, 195: 4, 2010: 18, 212: 0, 216: 10, 217: 18, 218: 18, 223: 16, 224: 6, 225: 54, 228: 17, 229: 24, 2001: 6, 232: 20, 233: 0, 236: 47, 237: 45, 238: 8, 239: 7, 241: 6, 242: 11, 243: 6, 244: 10, 245: 8, 247: 13, 248: 6, 249: 1, 250: 46, 251: 30, 252: 18, 253: 5, 254: 12, 2005: 5, 257: 13, 258: 8, 259: 7, 260: 0, 261: 9, 262: 13, 263: 21, 264: 8, 265: 43, 266: 22, 267: 10, 268: 16, 270: 27, 271: 12, 2008: 14, 274: 8, 275: 7, 276: 23, 278: 2, 279: 9, 280: 16, 281: 43, 282: 0, 2021: 19, 284: 37, 285: 29, 289: 7, 290: 24, 291: 0, 293: 63, 294: 21, 295: 8, 296: 13, 297: 30, 298: 9, 300: 37, 301: 31, 302: 22, 303: 30, 304: 17, 305: 15, 306: 8, 307: 31, 308: 22, 309: 2, 310: 21, 311: 14, 312: 36, 313: 14, 314: 13, 315: 8, 316: 16, 317: 26, 318: 20, 320: 5, 321: 3, 322: 13, 323: 14, 324: 24, 325: 14, 326: 29, 327: 21, 328: 16, 329: 13, 330: 5, 331: 11, 332: 14, 334: 31, 335: 14, 336: 47, 337: 8, 339: 5, 340: 19, 341: 10, 342: 14, 343: 11, 344: 13, 345: 26, 346: 12, 347: 0, 348: 35, 349: 13, 350: 25, 351: 7, 352: 13, 353: 2, 354: 1, 355: 10, 356: 31, 357: 15, 358: 40, 359: 1, 360: 2, 361: 26, 362: 10, 363: 40, 364: 4, 365: 14, 366: 25, 367: 1, 368: 57, 369: 11, 372: 8, 373: 14, 375: 28, 376: 9, 377: 10, 379: 22, 380: 37, 382: 38, 383: 40, 385: 14, 386: 9, 387: 27, 388: 24, 389: 3, 390: 12, 391: 21, 392: 18, 393: 21, 394: 30, 395: 4, 396: 5, 397: 14, 398: 18, 399: 7, 400: 6, 401: 39, 402: 45, 403: 25, 404: 41, 405: 21, 406: 12, 407: 16, 408: 8, 409: 10, 410: 41, 411: 32, 412: 17, 414: 9, 415: 21, 416: 8, 417: 15, 418: 16, 419: 8, 420: 10, 421: 4, 422: 34, 423: 16, 426: 54, 427: 9, 428: 44, 430: 27, 431: 6, 432: 39, 433: 49, 434: 41, 435: 33, 436: 5, 437: 12, 438: 35, 439: 23, 440: 2, 441: 9, 442: 28, 443: 17, 444: 13, 445: 35, 446: 30, 447: 13, 448: 28, 449: 17, 450: 19, 453: 52, 454: 22, 455: 8, 456: 6, 457: 37, 458: 24, 459: 70, 460: 6, 461: 50, 462: 28, 463: 45, 464: 4, 465: 12, 466: 37, 467: 46, 468: 16, 469: 8, 470: 21, 471: 9, 472: 6, 473: 32, 474: 11, 475: 6, 476: 25, 477: 36, 478: 45, 479: 36, 480: 23, 481: 8, 482: 26, 483: 32, 484: 6, 485: 8, 486: 8, 487: 40, 488: 36, 489: 11, 490: 35, 491: 10, 492: 44, 493: 4, 494: 19, 495: 28, 496: 46, 497: 42, 498: 10, 499: 27, 500: 21, 501: 44, 502: 0, 503: 5, 504: 31, 505: 31, 507: 21, 508: 19, 509: 32, 510: 2, 511: 75})"
       ]
      }
     ],
     "prompt_number": 12
    },
    {
     "cell_type": "code",
     "collapsed": false,
     "input": [
      "def keywithmaxval(d):\n",
      "    # create a list of the dict's keys and values; \n",
      "    v = list(d.values())\n",
      "    k = list(d.keys())\n",
      "\n",
      "    # return the key with the max value\n",
      "    return k[v.index(max(v))]\n",
      "\n",
      "# assign the max key to max_station\n",
      "max_station = keywithmaxval(hour_change)"
     ],
     "language": "python",
     "metadata": {},
     "outputs": [],
     "prompt_number": 13
    },
    {
     "cell_type": "code",
     "collapsed": false,
     "input": [
      "max_station"
     ],
     "language": "python",
     "metadata": {},
     "outputs": [
      {
       "metadata": {},
       "output_type": "pyout",
       "prompt_number": 14,
       "text": [
        "511"
       ]
      }
     ],
     "prompt_number": 14
    },
    {
     "cell_type": "code",
     "collapsed": false,
     "input": [
      "import datetime\n",
      "#query sqlite for reference information\n",
      "cur.execute(\"SELECT id, stationname, latitude, longitude FROM citibike_reference WHERE id = ?\", (max_station,))\n",
      "data = cur.fetchone()\n",
      "print \"The most active station is station id %s at %s latitude: %s longitude: %s \" % data\n",
      "print \"With \" + str(hour_change[379]) + \" bicycles coming and going in the hour between \" + datetime.datetime.fromtimestamp(int(df.index[0])).strftime('%Y-%m-%dT%H:%M:%S') + \" and \" + datetime.datetime.fromtimestamp(int(df.index[-1])).strftime('%Y-%m-%dT%H:%M:%S')"
     ],
     "language": "python",
     "metadata": {},
     "outputs": [
      {
       "output_type": "stream",
       "stream": "stdout",
       "text": [
        "The most active station is station id 511 at E 14 St & Avenue B latitude: 40.72938685 longitude: -73.97772429 \n",
        "With 22 bicycles coming and going in the hour between 2015-05-02T14:50:55 and 2015-05-04T20:40:16\n"
       ]
      }
     ],
     "prompt_number": 17
    },
    {
     "cell_type": "code",
     "collapsed": false,
     "input": [],
     "language": "python",
     "metadata": {},
     "outputs": []
    }
   ],
   "metadata": {}
  }
 ]
}