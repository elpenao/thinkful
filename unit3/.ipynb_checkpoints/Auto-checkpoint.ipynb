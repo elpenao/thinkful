{
 "metadata": {
  "name": "",
  "signature": "sha256:51fa4573f2fabba5be51f26ef1bd8a6a2dfeae8ace14519d57b509f16c40d20d"
 },
 "nbformat": 3,
 "nbformat_minor": 0,
 "worksheets": [
  {
   "cells": [
    {
     "cell_type": "code",
     "collapsed": false,
     "input": [
      "import requests\n",
      "import sqlite3 as lite\n",
      "import time\n",
      "from dateutil.parser import parse \n",
      "import collections"
     ],
     "language": "python",
     "metadata": {},
     "outputs": [],
     "prompt_number": 1
    },
    {
     "cell_type": "code",
     "collapsed": false,
     "input": [
      "con = lite.connect('citi_bike.db')\n",
      "cur = con.cursor()"
     ],
     "language": "python",
     "metadata": {},
     "outputs": [],
     "prompt_number": 3
    },
    {
     "cell_type": "code",
     "collapsed": false,
     "input": [
      "for i in range(60):\n",
      "    r = requests.get('http://www.citibikenyc.com/stations/json')\n",
      "    exec_time = parse(r.json()['executionTime'])\n",
      "\n",
      "    cur.execute('INSERT INTO available_bikes (execution_time) VALUES (?)', (exec_time.strftime('%s'),))\n",
      "    con.commit()\n",
      "\n",
      "    id_bikes = collections.defaultdict(int)\n",
      "    for station in r.json()['stationBeanList']:\n",
      "        id_bikes[station['id']] = station['availableBikes']\n",
      "\n",
      "    for k, v in id_bikes.iteritems():\n",
      "        cur.execute(\"UPDATE available_bikes SET _\" + str(k) + \" = \" + str(v) + \" WHERE execution_time = \" + exec_time.strftime('%s') + \";\")\n",
      "    con.commit()\n",
      "\n",
      "    time.sleep(60)\n",
      "\n",
      "con.close() #close the database connection when done"
     ],
     "language": "python",
     "metadata": {},
     "outputs": []
    }
   ],
   "metadata": {}
  }
 ]
}