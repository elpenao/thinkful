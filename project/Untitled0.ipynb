{
 "metadata": {
  "name": "",
  "signature": "sha256:879fb2b0663dd58625d6d394d1c5a9ee07f02edcfbf8d3d76e427a3532fbdd76"
 },
 "nbformat": 3,
 "nbformat_minor": 0,
 "worksheets": [
  {
   "cells": [
    {
     "cell_type": "code",
     "collapsed": false,
     "input": [
      "from sklearn import datasets\n",
      "from sklearn import metrics\n",
      "from sklearn.tree import DecisionTreeClassifier\n",
      " \n",
      "# load the iris datasets\n",
      "dataset = datasets.load_iris()\n",
      "# fit a CART model to the data\n",
      "model = DecisionTreeClassifier()\n",
      "model.fit(dataset.data, dataset.target)\n",
      "print(model)\n",
      "# make predictions\n",
      "expected = dataset.target\n",
      "predicted = model.predict(dataset.data)\n",
      "# summarize the fit of the model\n",
      "print(metrics.classification_report(expected, predicted))\n",
      "print(metrics.confusion_matrix(expected, predicted))"
     ],
     "language": "python",
     "metadata": {},
     "outputs": [
      {
       "output_type": "stream",
       "stream": "stdout",
       "text": [
        "DecisionTreeClassifier(compute_importances=None, criterion='gini',\n",
        "            max_depth=None, max_features=None, max_leaf_nodes=None,\n",
        "            min_density=None, min_samples_leaf=1, min_samples_split=2,\n",
        "            random_state=None, splitter='best')\n",
        "             precision    recall  f1-score   support\n",
        "\n",
        "          0       1.00      1.00      1.00        50\n",
        "          1       1.00      1.00      1.00        50\n",
        "          2       1.00      1.00      1.00        50\n",
        "\n",
        "avg / total       1.00      1.00      1.00       150\n",
        "\n",
        "[[50  0  0]\n",
        " [ 0 50  0]\n",
        " [ 0  0 50]]\n"
       ]
      }
     ],
     "prompt_number": 2
    },
    {
     "cell_type": "code",
     "collapsed": false,
     "input": [
      "dataset.target"
     ],
     "language": "python",
     "metadata": {},
     "outputs": [
      {
       "metadata": {},
       "output_type": "pyout",
       "prompt_number": 6,
       "text": [
        "array([0, 0, 0, 0, 0, 0, 0, 0, 0, 0, 0, 0, 0, 0, 0, 0, 0, 0, 0, 0, 0, 0, 0,\n",
        "       0, 0, 0, 0, 0, 0, 0, 0, 0, 0, 0, 0, 0, 0, 0, 0, 0, 0, 0, 0, 0, 0, 0,\n",
        "       0, 0, 0, 0, 1, 1, 1, 1, 1, 1, 1, 1, 1, 1, 1, 1, 1, 1, 1, 1, 1, 1, 1,\n",
        "       1, 1, 1, 1, 1, 1, 1, 1, 1, 1, 1, 1, 1, 1, 1, 1, 1, 1, 1, 1, 1, 1, 1,\n",
        "       1, 1, 1, 1, 1, 1, 1, 1, 2, 2, 2, 2, 2, 2, 2, 2, 2, 2, 2, 2, 2, 2, 2,\n",
        "       2, 2, 2, 2, 2, 2, 2, 2, 2, 2, 2, 2, 2, 2, 2, 2, 2, 2, 2, 2, 2, 2, 2,\n",
        "       2, 2, 2, 2, 2, 2, 2, 2, 2, 2, 2, 2])"
       ]
      }
     ],
     "prompt_number": 6
    },
    {
     "cell_type": "code",
     "collapsed": false,
     "input": [
      "from sklearn import datasets\n",
      "iris = datasets.load_iris()\n",
      "from sklearn.naive_bayes import GaussianNB\n",
      "gnb = GaussianNB()\n",
      "y_pred = gnb.fit(iris.data, iris.target).predict(iris.data)\n",
      "print(\"Number of mislabeled points out of a total %d points : %d\"\n",
      "      % (iris.data.shape[0],(iris.target != y_pred).sum()))"
     ],
     "language": "python",
     "metadata": {},
     "outputs": [
      {
       "output_type": "stream",
       "stream": "stdout",
       "text": [
        "Number of mislabeled points out of a total 150 points : 6\n"
       ]
      }
     ],
     "prompt_number": 1
    },
    {
     "cell_type": "code",
     "collapsed": false,
     "input": [],
     "language": "python",
     "metadata": {},
     "outputs": []
    }
   ],
   "metadata": {}
  }
 ]
}